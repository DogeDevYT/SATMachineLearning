{
 "cells": [
  {
   "cell_type": "code",
   "execution_count": 3,
   "metadata": {},
   "outputs": [],
   "source": [
    "import pandas as pd"
   ]
  },
  {
   "cell_type": "code",
   "execution_count": 4,
   "metadata": {},
   "outputs": [
    {
     "data": {
      "text/html": [
       "<div>\n",
       "<style scoped>\n",
       "    .dataframe tbody tr th:only-of-type {\n",
       "        vertical-align: middle;\n",
       "    }\n",
       "\n",
       "    .dataframe tbody tr th {\n",
       "        vertical-align: top;\n",
       "    }\n",
       "\n",
       "    .dataframe thead th {\n",
       "        text-align: right;\n",
       "    }\n",
       "</style>\n",
       "<table border=\"1\" class=\"dataframe\">\n",
       "  <thead>\n",
       "    <tr style=\"text-align: right;\">\n",
       "      <th></th>\n",
       "      <th>ReadingErrors</th>\n",
       "      <th>WritingErrors</th>\n",
       "      <th>MathNCErrors</th>\n",
       "      <th>MathCErrors</th>\n",
       "    </tr>\n",
       "  </thead>\n",
       "  <tbody>\n",
       "    <tr>\n",
       "      <th>count</th>\n",
       "      <td>9.000000</td>\n",
       "      <td>9.000000</td>\n",
       "      <td>9.000000</td>\n",
       "      <td>9.000000</td>\n",
       "    </tr>\n",
       "    <tr>\n",
       "      <th>mean</th>\n",
       "      <td>6.888889</td>\n",
       "      <td>2.888889</td>\n",
       "      <td>2.666667</td>\n",
       "      <td>2.444444</td>\n",
       "    </tr>\n",
       "    <tr>\n",
       "      <th>std</th>\n",
       "      <td>2.147350</td>\n",
       "      <td>0.927961</td>\n",
       "      <td>1.224745</td>\n",
       "      <td>1.810463</td>\n",
       "    </tr>\n",
       "    <tr>\n",
       "      <th>min</th>\n",
       "      <td>3.000000</td>\n",
       "      <td>1.000000</td>\n",
       "      <td>1.000000</td>\n",
       "      <td>0.000000</td>\n",
       "    </tr>\n",
       "    <tr>\n",
       "      <th>25%</th>\n",
       "      <td>6.000000</td>\n",
       "      <td>3.000000</td>\n",
       "      <td>2.000000</td>\n",
       "      <td>1.000000</td>\n",
       "    </tr>\n",
       "    <tr>\n",
       "      <th>50%</th>\n",
       "      <td>8.000000</td>\n",
       "      <td>3.000000</td>\n",
       "      <td>3.000000</td>\n",
       "      <td>2.000000</td>\n",
       "    </tr>\n",
       "    <tr>\n",
       "      <th>75%</th>\n",
       "      <td>8.000000</td>\n",
       "      <td>3.000000</td>\n",
       "      <td>4.000000</td>\n",
       "      <td>3.000000</td>\n",
       "    </tr>\n",
       "    <tr>\n",
       "      <th>max</th>\n",
       "      <td>9.000000</td>\n",
       "      <td>4.000000</td>\n",
       "      <td>4.000000</td>\n",
       "      <td>6.000000</td>\n",
       "    </tr>\n",
       "  </tbody>\n",
       "</table>\n",
       "</div>"
      ],
      "text/plain": [
       "       ReadingErrors  WritingErrors  MathNCErrors  MathCErrors\n",
       "count       9.000000       9.000000      9.000000     9.000000\n",
       "mean        6.888889       2.888889      2.666667     2.444444\n",
       "std         2.147350       0.927961      1.224745     1.810463\n",
       "min         3.000000       1.000000      1.000000     0.000000\n",
       "25%         6.000000       3.000000      2.000000     1.000000\n",
       "50%         8.000000       3.000000      3.000000     2.000000\n",
       "75%         8.000000       3.000000      4.000000     3.000000\n",
       "max         9.000000       4.000000      4.000000     6.000000"
      ]
     },
     "execution_count": 4,
     "metadata": {},
     "output_type": "execute_result"
    }
   ],
   "source": [
    "#save mldata filepath to variable\n",
    "data_filepath = 'ML_data.csv'\n",
    "#store filepath of data in DataFrame called score_data\n",
    "score_data = pd.read_csv(data_filepath)\n",
    "#prints summary of data\n",
    "score_data.describe()"
   ]
  },
  {
   "cell_type": "code",
   "execution_count": 5,
   "metadata": {
    "scrolled": true
   },
   "outputs": [
    {
     "data": {
      "text/plain": [
       "Index(['ReadingErrors', 'WritingErrors', 'MathNCErrors', 'MathCErrors'], dtype='object')"
      ]
     },
     "execution_count": 5,
     "metadata": {},
     "output_type": "execute_result"
    }
   ],
   "source": [
    "#lists all columns in data\n",
    "score_data.columns"
   ]
  },
  {
   "cell_type": "code",
   "execution_count": 6,
   "metadata": {},
   "outputs": [],
   "source": [
    "#drops all missing values in data from model\n",
    "score_data = score_data.dropna(axis=0)"
   ]
  },
  {
   "cell_type": "code",
   "execution_count": 7,
   "metadata": {},
   "outputs": [
    {
     "data": {
      "text/html": [
       "<div>\n",
       "<style scoped>\n",
       "    .dataframe tbody tr th:only-of-type {\n",
       "        vertical-align: middle;\n",
       "    }\n",
       "\n",
       "    .dataframe tbody tr th {\n",
       "        vertical-align: top;\n",
       "    }\n",
       "\n",
       "    .dataframe thead th {\n",
       "        text-align: right;\n",
       "    }\n",
       "</style>\n",
       "<table border=\"1\" class=\"dataframe\">\n",
       "  <thead>\n",
       "    <tr style=\"text-align: right;\">\n",
       "      <th></th>\n",
       "      <th>ReadingErrors</th>\n",
       "    </tr>\n",
       "  </thead>\n",
       "  <tbody>\n",
       "    <tr>\n",
       "      <th>0</th>\n",
       "      <td>9</td>\n",
       "    </tr>\n",
       "    <tr>\n",
       "      <th>1</th>\n",
       "      <td>9</td>\n",
       "    </tr>\n",
       "    <tr>\n",
       "      <th>2</th>\n",
       "      <td>4</td>\n",
       "    </tr>\n",
       "    <tr>\n",
       "      <th>3</th>\n",
       "      <td>7</td>\n",
       "    </tr>\n",
       "    <tr>\n",
       "      <th>4</th>\n",
       "      <td>8</td>\n",
       "    </tr>\n",
       "  </tbody>\n",
       "</table>\n",
       "</div>"
      ],
      "text/plain": [
       "   ReadingErrors\n",
       "0              9\n",
       "1              9\n",
       "2              4\n",
       "3              7\n",
       "4              8"
      ]
     },
     "execution_count": 7,
     "metadata": {},
     "output_type": "execute_result"
    }
   ],
   "source": [
    "#sets prediction target to reading errors (through dot notation and sets it to y)\n",
    "ry = score_data.ReadingErrors\n",
    "#selects all relevant reading features (things that would affect prediction like previous errors) and saves it to X\n",
    "reading_features = ['ReadingErrors']\n",
    "rX = score_data[reading_features]\n",
    "#describes data\n",
    "rX.describe()\n",
    "rX.head()"
   ]
  },
  {
   "cell_type": "code",
   "execution_count": 8,
   "metadata": {},
   "outputs": [
    {
     "name": "stdout",
     "output_type": "stream",
     "text": [
      "Making predictions for first 5 reading error scores:\n",
      "   ReadingErrors\n",
      "0              9\n",
      "1              9\n",
      "2              4\n",
      "3              7\n",
      "4              8\n",
      "The predictions are:\n",
      "[9. 9. 4. 7. 8.]\n",
      "MeanAbsoluteError:  0.0\n"
     ]
    }
   ],
   "source": [
    "from sklearn.tree import DecisionTreeRegressor\n",
    "from sklearn.metrics import mean_absolute_error\n",
    "\n",
    "#Define model and set random_state to 1\n",
    "sat_reading_model = DecisionTreeRegressor(random_state=1)\n",
    "#fit model\n",
    "sat_reading_model.fit(rX, ry)\n",
    "\n",
    "#predictions for in-sample data; very bad but just a prototype\n",
    "predicted_reading_scores = sat_reading_model.predict(rX)\n",
    "print(\"Making predictions for first 5 reading error scores:\")\n",
    "print(rX.head())\n",
    "print(\"The predictions are:\")\n",
    "print(sat_reading_model.predict(rX.head()))\n",
    "print(\"MeanAbsoluteError: \", mean_absolute_error(ry, predicted_reading_scores))\n",
    "\n",
    "#The above one uses the poopy method (in-sample prediction) so this wouldn't actually work for a real prediction"
   ]
  },
  {
   "cell_type": "code",
   "execution_count": 9,
   "metadata": {},
   "outputs": [
    {
     "name": "stdout",
     "output_type": "stream",
     "text": [
      "Reading value predictions: [6. 6. 9.]\n",
      "1.6666666666666667\n"
     ]
    }
   ],
   "source": [
    "from sklearn.model_selection import train_test_split\n",
    "\n",
    "# split data into training and validation data, for both features and target\n",
    "# The split is based on a random number generator. Supplying a numeric value to\n",
    "# the random_state argument guarantees we get the same split every time we\n",
    "# run this script.\n",
    "train_rX, value_rX, train_ry, value_ry = train_test_split(rX, ry, random_state=0)\n",
    "#get predicted reading errors on validation data (using the good method)\n",
    "reading_value_predictions = DecisionTreeRegressor()\n",
    "sat_reading_model.fit(train_rX, train_ry)\n",
    "# get predicted errors on validation data\n",
    "val_reading_predictions = sat_reading_model.predict(value_rX)\n",
    "print(\"Reading value predictions: \" + str(val_reading_predictions))\n",
    "print(mean_absolute_error(value_ry, val_reading_predictions))"
   ]
  },
  {
   "cell_type": "code",
   "execution_count": null,
   "metadata": {},
   "outputs": [],
   "source": []
  }
 ],
 "metadata": {
  "kernelspec": {
   "display_name": "Python 3",
   "language": "python",
   "name": "python3"
  },
  "language_info": {
   "codemirror_mode": {
    "name": "ipython",
    "version": 3
   },
   "file_extension": ".py",
   "mimetype": "text/x-python",
   "name": "python",
   "nbconvert_exporter": "python",
   "pygments_lexer": "ipython3",
   "version": "3.8.3"
  }
 },
 "nbformat": 4,
 "nbformat_minor": 4
}
